{
  "nbformat": 4,
  "nbformat_minor": 0,
  "metadata": {
    "colab": {
      "provenance": []
    },
    "kernelspec": {
      "name": "python3",
      "display_name": "Python 3"
    },
    "language_info": {
      "name": "python"
    }
  },
  "cells": [
    {
      "cell_type": "code",
      "execution_count": null,
      "metadata": {
        "id": "iFSbTZV8TkRk"
      },
      "outputs": [],
      "source": [
        "import pandas as pd\n",
        "import numpy as np\n",
        "import matplotlib.pyplot as plt\n",
        "import seaborn as sns"
      ]
    },
    {
      "cell_type": "code",
      "source": [
        "data = pd.read_csv('/content/sample_data/mission 4.csv')"
      ],
      "metadata": {
        "id": "rV-uLM3z8lAK"
      },
      "execution_count": null,
      "outputs": []
    },
    {
      "cell_type": "code",
      "source": [
        "data.head()"
      ],
      "metadata": {
        "id": "Xp_apLzY8sc8"
      },
      "execution_count": null,
      "outputs": []
    },
    {
      "cell_type": "code",
      "source": [
        "data.isna().sum()"
      ],
      "metadata": {
        "id": "QnX8NuAJ8uMh"
      },
      "execution_count": null,
      "outputs": []
    },
    {
      "cell_type": "code",
      "source": [
        "data.columns"
      ],
      "metadata": {
        "id": "sru_oFqG86nP"
      },
      "execution_count": null,
      "outputs": []
    },
    {
      "cell_type": "code",
      "source": [
        "from sklearn.preprocessing import LabelEncoder\n",
        "encode_cols = ['Brand', 'Processor Type', 'Operating System']\n",
        "le = {}\n",
        "for col in encode_cols:\n",
        "  le[col] = LabelEncoder()\n",
        "  data[col] = le[col].fit_transform(data[col])\n"
      ],
      "metadata": {
        "id": "2GDX3TxmPmyp"
      },
      "execution_count": null,
      "outputs": []
    },
    {
      "cell_type": "code",
      "source": [
        "data.head()"
      ],
      "metadata": {
        "id": "n6Fr_w59P_aY"
      },
      "execution_count": null,
      "outputs": []
    },
    {
      "cell_type": "code",
      "source": [
        "scale_Cols = ['RAM Size (GB)', 'Storage (GB)', 'Screen Size (inches)']\n",
        "from sklearn.preprocessing import StandardScaler\n",
        "scaler = StandardScaler()\n",
        "data[scale_Cols] = scaler.fit_transform(data[scale_Cols])"
      ],
      "metadata": {
        "id": "rUpkjqjyQmhd"
      },
      "execution_count": null,
      "outputs": []
    },
    {
      "cell_type": "code",
      "source": [
        "data.head()"
      ],
      "metadata": {
        "id": "24DOcnbvRFBr"
      },
      "execution_count": null,
      "outputs": []
    },
    {
      "cell_type": "code",
      "source": [
        "data.describe()"
      ],
      "metadata": {
        "id": "2IDWUVd0RGOc"
      },
      "execution_count": null,
      "outputs": []
    },
    {
      "cell_type": "code",
      "source": [
        "plt.figure(figsize=(10, 8))\n",
        "sns.histplot(data['Price ($)'], kde=True, color=\"red\")\n",
        "plt.xlabel('Price ($)')\n",
        "plt.ylabel('Frequency')\n",
        "plt.title('Distribution of Laptop Prices')\n",
        "plt.show()"
      ],
      "metadata": {
        "id": "dJH9fr_JRLEo"
      },
      "execution_count": null,
      "outputs": []
    },
    {
      "cell_type": "code",
      "source": [
        "plt.figure(figsize=(10,8))\n",
        "sns.scatterplot(x=data['RAM Size (GB)'], y=data['Price ($)'], color='Blue')\n",
        "plt.xlabel('Ram')\n",
        "plt.ylabel('Price')\n",
        "plt.title('RAM and Price Relationship')\n"
      ],
      "metadata": {
        "id": "U_JLofqARc7B"
      },
      "execution_count": null,
      "outputs": []
    },
    {
      "cell_type": "code",
      "source": [
        "plt.figure(figsize=(10,8))\n",
        "sns.barplot(x=data['Brand'], y=data['Price ($)'], color='Green')\n",
        "plt.xlabel('Brand')\n",
        "plt.ylabel('Price')\n",
        "plt.title('Brand Impact on Price ')"
      ],
      "metadata": {
        "id": "ENold2gVSDgC"
      },
      "execution_count": null,
      "outputs": []
    },
    {
      "cell_type": "code",
      "source": [
        "from sklearn.model_selection import train_test_split\n",
        "x = data.drop('Price ($)', axis=1)\n",
        "y = data['Price ($)']\n",
        "x_train, x_test, y_train, y_test = train_test_split(x, y, test_size=0.2, random_state=42)"
      ],
      "metadata": {
        "id": "KpQ1Q2LgSWtr"
      },
      "execution_count": null,
      "outputs": []
    },
    {
      "cell_type": "code",
      "source": [
        "x_train"
      ],
      "metadata": {
        "id": "09YMRMqfSxn0"
      },
      "execution_count": null,
      "outputs": []
    },
    {
      "cell_type": "code",
      "source": [
        "y_train"
      ],
      "metadata": {
        "id": "kuPwL8svSytV"
      },
      "execution_count": null,
      "outputs": []
    },
    {
      "cell_type": "code",
      "source": [
        "from sklearn.linear_model import LinearRegression\n",
        "from sklearn.tree import DecisionTreeRegressor\n",
        "from sklearn.ensemble import RandomForestRegressor\n",
        "from sklearn.metrics import mean_squared_error, r2_score, mean_absolute_error\n"
      ],
      "metadata": {
        "id": "laOD9poyS2Lg"
      },
      "execution_count": null,
      "outputs": []
    },
    {
      "cell_type": "code",
      "source": [
        "lr = LinearRegression()\n",
        "lr.fit(x_train, y_train)\n",
        "dt = DecisionTreeRegressor()\n",
        "dt.fit(x_train, y_train)\n",
        "rf = RandomForestRegressor()\n",
        "rf.fit(x_train, y_train)\n",
        "y_pred_lr = lr.predict(x_test)\n",
        "y_pred_dt = dt.predict(x_test)\n",
        "y_pred_rf = rf.predict(x_test)\n"
      ],
      "metadata": {
        "id": "gMvm4GZnTGKn"
      },
      "execution_count": null,
      "outputs": []
    },
    {
      "cell_type": "code",
      "source": [
        "print(\"Linear Regression:\")\n",
        "print(\"Mean Squared Error:\", mean_squared_error(y_test, y_pred_lr))\n",
        "print(\"R-squared:\", r2_score(y_test, y_pred_lr))\n",
        "print(\"Mean Absolute Error:\", mean_absolute_error(y_test, y_pred_lr))\n",
        "\n",
        "print(\"Decision Tree Regression:\")\n",
        "print(\"Mean Squared Error:\", mean_squared_error(y_test, y_pred_dt))\n",
        "print(\"R-squared:\", r2_score(y_test, y_pred_dt))\n",
        "print(\"Mean Absolute Error:\", mean_absolute_error(y_test, y_pred_dt))\n",
        "\n",
        "print(\"Random Forest Regression:\")\n",
        "print(\"Mean Squared Error:\", mean_squared_error(y_test, y_pred_rf))\n",
        "print(\"R-squared:\", r2_score(y_test, y_pred_rf))\n",
        "print(\"Mean Absolute Error:\", mean_absolute_error(y_test, y_pred_rf))"
      ],
      "metadata": {
        "id": "ctPeq-VoTnJQ"
      },
      "execution_count": null,
      "outputs": []
    },
    {
      "cell_type": "code",
      "source": [
        "from sklearn.model_selection import GridSearchCV, RandomizedSearchCV\n",
        "random_params = {\n",
        "    'n_estimators': [50, 100, 200, 250,300],\n",
        "    'max_depth': [None, 10, 20, 30,35,40],\n",
        "\n",
        "}\n",
        "random_model = RandomizedSearchCV(RandomForestRegressor(), random_params, cv=5)\n",
        "random_model.fit(x_train, y_train)\n"
      ],
      "metadata": {
        "id": "7A1p3wnbT4VI"
      },
      "execution_count": null,
      "outputs": []
    },
    {
      "cell_type": "code",
      "source": [
        "print(\"Best Parameters:\", random_model.best_params_)\n",
        "print(\"Best Score:\", random_model.best_score_)"
      ],
      "metadata": {
        "id": "JXPBwMqFUmfw"
      },
      "execution_count": null,
      "outputs": []
    },
    {
      "cell_type": "code",
      "source": [
        "pip install gradio"
      ],
      "metadata": {
        "id": "S9hKkvaEVFmu"
      },
      "execution_count": null,
      "outputs": []
    },
    {
      "cell_type": "code",
      "source": [
        "import gradio as gr\n",
        "def predict_laptop_price(brand, processor_type, ram_size, storage, screen, os):\n",
        "  try:\n",
        "    input_data = pd.DataFrame(\n",
        "        {\n",
        "            'Brand': [brand],\n",
        "            'Processor Type': [processor_type],\n",
        "            'RAM Size (GB)': [ram_size],\n",
        "            'Storage (GB)': [storage],\n",
        "            'Screen Size (inches)': [screen],\n",
        "            'Operating System': [os]\n",
        "\n",
        "        }\n",
        "    )\n",
        "\n",
        "    for col in encode_cols:\n",
        "      input_data[col] = le[col].transform(input_data[col])\n",
        "    input_data[scale_Cols] = scaler.transform(input_data[scale_Cols])\n",
        "    prediction = random_model.best_estimator_.predict(input_data)\n",
        "    return prediction[0]\n",
        "  except Exception as e:\n",
        "    return str(e)\n",
        "gr.Interface(\n",
        "      inputs=[\n",
        "          gr.Dropdown(choices=list(data['Brand'].unique()), label='Brand'),\n",
        "          gr.Dropdown(choices=list(data['Processor Type'].unique()), label='Processor Type'),\n",
        "          gr.Number(label='RAM Size (GB)'),\n",
        "          gr.Number(label='Storage (GB)'),\n",
        "          gr.Number(label='Screen Size (inches)'),\n",
        "          gr.Dropdown(choices=list(data['Operating System'].unique()), label='Operating System')\n",
        "      ]\n",
        "      , outputs=gr.Textbox(label='Predicted Price ($)'),\n",
        "      fn=predict_laptop_price,\n",
        "      title='Laptop Price Prediction',\n",
        "      description='Enter the details of the laptop to predict its price.'\n",
        "  ).launch()"
      ],
      "metadata": {
        "id": "jpJpirYlVWy7"
      },
      "execution_count": null,
      "outputs": []
    },
    {
      "cell_type": "code",
      "source": [
        "data['Brand'].unique()"
      ],
      "metadata": {
        "colab": {
          "base_uri": "https://localhost:8080/"
        },
        "id": "AIIxRhOIW6I1",
        "outputId": "6f8b4479-0efa-4bbe-c8dc-8d67f38aab39"
      },
      "execution_count": null,
      "outputs": [
        {
          "output_type": "execute_result",
          "data": {
            "text/plain": [
              "array(['Acer', 'Apple', 'HP', 'Lenovo', 'Dell'], dtype=object)"
            ]
          },
          "metadata": {},
          "execution_count": 37
        }
      ]
    },
    {
      "cell_type": "code",
      "source": [],
      "metadata": {
        "id": "z9YuibvUW6h0"
      },
      "execution_count": null,
      "outputs": []
    }
  ]
}
